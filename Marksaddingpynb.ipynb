{
  "cells": [
    {
      "cell_type": "markdown",
      "metadata": {
        "id": "view-in-github",
        "colab_type": "text"
      },
      "source": [
        "<a href=\"https://colab.research.google.com/github/jarpit2003/Marks_adding/blob/main/Marksaddingpynb.ipynb\" target=\"_parent\"><img src=\"https://colab.research.google.com/assets/colab-badge.svg\" alt=\"Open In Colab\"/></a>"
      ]
    },
    {
      "cell_type": "code",
      "execution_count": null,
      "metadata": {
        "id": "ZwlCQVEJ5Nev"
      },
      "outputs": [],
      "source": [
        "import pandas as pd\n",
        "def add_marks(input_file,output_file):\n",
        "  df = pd.read_csv('Mini Project - Marks Adding.csv')\n",
        "  result = df.groupby('Roll Num',as_index=False)['Marks'].sum()\n",
        "  result.to_csv(output_file,index=False)\n",
        "input_file = 'Mini Project - Marks Adding.csv'\n",
        "output_file = 'Marks_added.csv'\n",
        "add_marks(input_file,output_file)"
      ]
    }
  ],
  "metadata": {
    "colab": {
      "provenance": [],
      "authorship_tag": "ABX9TyMQRgw3zdMp5iZYU4BZZ/8A",
      "include_colab_link": true
    },
    "kernelspec": {
      "display_name": "Python 3",
      "name": "python3"
    },
    "language_info": {
      "name": "python"
    }
  },
  "nbformat": 4,
  "nbformat_minor": 0
}